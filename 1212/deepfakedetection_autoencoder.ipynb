{
  "cells": [
    {
      "cell_type": "markdown",
      "metadata": {
        "id": "view-in-github",
        "colab_type": "text"
      },
      "source": [
        "<a href=\"https://colab.research.google.com/github/hongjinkong/opensw/blob/main/1212/deepfakedetection_autoencoder.ipynb\" target=\"_parent\"><img src=\"https://colab.research.google.com/assets/colab-badge.svg\" alt=\"Open In Colab\"/></a>"
      ]
    },
    {
      "cell_type": "code",
      "execution_count": null,
      "metadata": {
        "colab": {
          "base_uri": "https://localhost:8080/"
        },
        "id": "4rX1Hdsg1_gy",
        "outputId": "df66cb80-00c6-4e4c-e709-895d539e40de"
      },
      "outputs": [
        {
          "name": "stdout",
          "output_type": "stream",
          "text": [
            "Cloning into 'dfdc_deepfake_challenge'...\n",
            "remote: Enumerating objects: 134, done.\u001b[K\n",
            "remote: Counting objects: 100% (69/69), done.\u001b[K\n",
            "remote: Compressing objects: 100% (65/65), done.\u001b[K\n",
            "remote: Total 134 (delta 23), reused 4 (delta 4), pack-reused 65 (from 1)\u001b[K\n",
            "Receiving objects: 100% (134/134), 69.20 MiB | 10.66 MiB/s, done.\n",
            "Resolving deltas: 100% (40/40), done.\n",
            "Updating files: 100% (63/63), done.\n"
          ]
        }
      ],
      "source": [
        "!git clone https://github.com/mystlee/dfdc_deepfake_challenge.git"
      ]
    },
    {
      "cell_type": "code",
      "execution_count": null,
      "metadata": {
        "colab": {
          "base_uri": "https://localhost:8080/",
          "height": 92
        },
        "id": "AX2879Y4D3PO",
        "outputId": "23445cf2-3393-4011-914d-7b99d563c313"
      },
      "outputs": [
        {
          "data": {
            "text/html": [
              "\n",
              "     <input type=\"file\" id=\"files-877dc4bc-1b44-4011-b20d-fb3519107847\" name=\"files[]\" multiple disabled\n",
              "        style=\"border:none\" />\n",
              "     <output id=\"result-877dc4bc-1b44-4011-b20d-fb3519107847\">\n",
              "      Upload widget is only available when the cell has been executed in the\n",
              "      current browser session. Please rerun this cell to enable.\n",
              "      </output>\n",
              "      <script>// Copyright 2017 Google LLC\n",
              "//\n",
              "// Licensed under the Apache License, Version 2.0 (the \"License\");\n",
              "// you may not use this file except in compliance with the License.\n",
              "// You may obtain a copy of the License at\n",
              "//\n",
              "//      http://www.apache.org/licenses/LICENSE-2.0\n",
              "//\n",
              "// Unless required by applicable law or agreed to in writing, software\n",
              "// distributed under the License is distributed on an \"AS IS\" BASIS,\n",
              "// WITHOUT WARRANTIES OR CONDITIONS OF ANY KIND, either express or implied.\n",
              "// See the License for the specific language governing permissions and\n",
              "// limitations under the License.\n",
              "\n",
              "/**\n",
              " * @fileoverview Helpers for google.colab Python module.\n",
              " */\n",
              "(function(scope) {\n",
              "function span(text, styleAttributes = {}) {\n",
              "  const element = document.createElement('span');\n",
              "  element.textContent = text;\n",
              "  for (const key of Object.keys(styleAttributes)) {\n",
              "    element.style[key] = styleAttributes[key];\n",
              "  }\n",
              "  return element;\n",
              "}\n",
              "\n",
              "// Max number of bytes which will be uploaded at a time.\n",
              "const MAX_PAYLOAD_SIZE = 100 * 1024;\n",
              "\n",
              "function _uploadFiles(inputId, outputId) {\n",
              "  const steps = uploadFilesStep(inputId, outputId);\n",
              "  const outputElement = document.getElementById(outputId);\n",
              "  // Cache steps on the outputElement to make it available for the next call\n",
              "  // to uploadFilesContinue from Python.\n",
              "  outputElement.steps = steps;\n",
              "\n",
              "  return _uploadFilesContinue(outputId);\n",
              "}\n",
              "\n",
              "// This is roughly an async generator (not supported in the browser yet),\n",
              "// where there are multiple asynchronous steps and the Python side is going\n",
              "// to poll for completion of each step.\n",
              "// This uses a Promise to block the python side on completion of each step,\n",
              "// then passes the result of the previous step as the input to the next step.\n",
              "function _uploadFilesContinue(outputId) {\n",
              "  const outputElement = document.getElementById(outputId);\n",
              "  const steps = outputElement.steps;\n",
              "\n",
              "  const next = steps.next(outputElement.lastPromiseValue);\n",
              "  return Promise.resolve(next.value.promise).then((value) => {\n",
              "    // Cache the last promise value to make it available to the next\n",
              "    // step of the generator.\n",
              "    outputElement.lastPromiseValue = value;\n",
              "    return next.value.response;\n",
              "  });\n",
              "}\n",
              "\n",
              "/**\n",
              " * Generator function which is called between each async step of the upload\n",
              " * process.\n",
              " * @param {string} inputId Element ID of the input file picker element.\n",
              " * @param {string} outputId Element ID of the output display.\n",
              " * @return {!Iterable<!Object>} Iterable of next steps.\n",
              " */\n",
              "function* uploadFilesStep(inputId, outputId) {\n",
              "  const inputElement = document.getElementById(inputId);\n",
              "  inputElement.disabled = false;\n",
              "\n",
              "  const outputElement = document.getElementById(outputId);\n",
              "  outputElement.innerHTML = '';\n",
              "\n",
              "  const pickedPromise = new Promise((resolve) => {\n",
              "    inputElement.addEventListener('change', (e) => {\n",
              "      resolve(e.target.files);\n",
              "    });\n",
              "  });\n",
              "\n",
              "  const cancel = document.createElement('button');\n",
              "  inputElement.parentElement.appendChild(cancel);\n",
              "  cancel.textContent = 'Cancel upload';\n",
              "  const cancelPromise = new Promise((resolve) => {\n",
              "    cancel.onclick = () => {\n",
              "      resolve(null);\n",
              "    };\n",
              "  });\n",
              "\n",
              "  // Wait for the user to pick the files.\n",
              "  const files = yield {\n",
              "    promise: Promise.race([pickedPromise, cancelPromise]),\n",
              "    response: {\n",
              "      action: 'starting',\n",
              "    }\n",
              "  };\n",
              "\n",
              "  cancel.remove();\n",
              "\n",
              "  // Disable the input element since further picks are not allowed.\n",
              "  inputElement.disabled = true;\n",
              "\n",
              "  if (!files) {\n",
              "    return {\n",
              "      response: {\n",
              "        action: 'complete',\n",
              "      }\n",
              "    };\n",
              "  }\n",
              "\n",
              "  for (const file of files) {\n",
              "    const li = document.createElement('li');\n",
              "    li.append(span(file.name, {fontWeight: 'bold'}));\n",
              "    li.append(span(\n",
              "        `(${file.type || 'n/a'}) - ${file.size} bytes, ` +\n",
              "        `last modified: ${\n",
              "            file.lastModifiedDate ? file.lastModifiedDate.toLocaleDateString() :\n",
              "                                    'n/a'} - `));\n",
              "    const percent = span('0% done');\n",
              "    li.appendChild(percent);\n",
              "\n",
              "    outputElement.appendChild(li);\n",
              "\n",
              "    const fileDataPromise = new Promise((resolve) => {\n",
              "      const reader = new FileReader();\n",
              "      reader.onload = (e) => {\n",
              "        resolve(e.target.result);\n",
              "      };\n",
              "      reader.readAsArrayBuffer(file);\n",
              "    });\n",
              "    // Wait for the data to be ready.\n",
              "    let fileData = yield {\n",
              "      promise: fileDataPromise,\n",
              "      response: {\n",
              "        action: 'continue',\n",
              "      }\n",
              "    };\n",
              "\n",
              "    // Use a chunked sending to avoid message size limits. See b/62115660.\n",
              "    let position = 0;\n",
              "    do {\n",
              "      const length = Math.min(fileData.byteLength - position, MAX_PAYLOAD_SIZE);\n",
              "      const chunk = new Uint8Array(fileData, position, length);\n",
              "      position += length;\n",
              "\n",
              "      const base64 = btoa(String.fromCharCode.apply(null, chunk));\n",
              "      yield {\n",
              "        response: {\n",
              "          action: 'append',\n",
              "          file: file.name,\n",
              "          data: base64,\n",
              "        },\n",
              "      };\n",
              "\n",
              "      let percentDone = fileData.byteLength === 0 ?\n",
              "          100 :\n",
              "          Math.round((position / fileData.byteLength) * 100);\n",
              "      percent.textContent = `${percentDone}% done`;\n",
              "\n",
              "    } while (position < fileData.byteLength);\n",
              "  }\n",
              "\n",
              "  // All done.\n",
              "  yield {\n",
              "    response: {\n",
              "      action: 'complete',\n",
              "    }\n",
              "  };\n",
              "}\n",
              "\n",
              "scope.google = scope.google || {};\n",
              "scope.google.colab = scope.google.colab || {};\n",
              "scope.google.colab._files = {\n",
              "  _uploadFiles,\n",
              "  _uploadFilesContinue,\n",
              "};\n",
              "})(self);\n",
              "</script> "
            ],
            "text/plain": [
              "<IPython.core.display.HTML object>"
            ]
          },
          "metadata": {},
          "output_type": "display_data"
        },
        {
          "name": "stdout",
          "output_type": "stream",
          "text": [
            "Saving kaggle.json to kaggle.json\n"
          ]
        },
        {
          "data": {
            "text/plain": [
              "{'kaggle.json': b'{\"username\":\"hongjinkong\",\"key\":\"4c9bd1c41ad59a0b429b20ee1998c074\"}'}"
            ]
          },
          "execution_count": 2,
          "metadata": {},
          "output_type": "execute_result"
        }
      ],
      "source": [
        "from google.colab import files\n",
        "files.upload()  # 여기서 'kaggle.json' 파일을 선택하여 업로드\n"
      ]
    },
    {
      "cell_type": "code",
      "execution_count": null,
      "metadata": {
        "id": "CgkaID-CIxwg"
      },
      "outputs": [],
      "source": [
        "import os\n",
        "\n",
        "# Kaggle API 파일을 Colab에서 사용할 수 있는 위치로 이동\n",
        "os.makedirs('/root/.kaggle', exist_ok=True)\n",
        "!cp kaggle.json /root/.kaggle/\n",
        "!chmod 600 /root/.kaggle/kaggle.json  # 권한 설정\n"
      ]
    },
    {
      "cell_type": "code",
      "execution_count": null,
      "metadata": {
        "colab": {
          "base_uri": "https://localhost:8080/"
        },
        "id": "BIEYoIPlIz9S",
        "outputId": "6fd6000d-1fec-44bd-d238-3b5d1172b9fd"
      },
      "outputs": [
        {
          "name": "stdout",
          "output_type": "stream",
          "text": [
            "Dataset URL: https://www.kaggle.com/datasets/manjilkarki/deepfake-and-real-images\n",
            "License(s): unknown\n",
            "Downloading deepfake-and-real-images.zip to /content\n",
            " 98% 1.66G/1.68G [00:16<00:00, 102MB/s]\n",
            "100% 1.68G/1.68G [00:16<00:00, 112MB/s]\n"
          ]
        }
      ],
      "source": [
        "!kaggle datasets download -d manjilkarki/deepfake-and-real-images --force\n"
      ]
    },
    {
      "cell_type": "code",
      "execution_count": null,
      "metadata": {
        "id": "kXxHhODxJQS9"
      },
      "outputs": [],
      "source": [
        "!unzip deepfake-and-real-images.zip -d /content/deepfake_and_real_images\n"
      ]
    },
    {
      "cell_type": "code",
      "execution_count": null,
      "metadata": {
        "colab": {
          "base_uri": "https://localhost:8080/"
        },
        "id": "gOSUzDz6Jpte",
        "outputId": "b69c1d19-ce49-42d3-acc7-e684886afc06"
      },
      "outputs": [
        {
          "data": {
            "text/plain": [
              "['Dataset']"
            ]
          },
          "execution_count": 6,
          "metadata": {},
          "output_type": "execute_result"
        }
      ],
      "source": [
        "import os\n",
        "\n",
        "dataset_dir = '/content/deepfake_and_real_images'  # 데이터셋 경로\n",
        "os.listdir(dataset_dir)\n"
      ]
    },
    {
      "cell_type": "code",
      "source": [
        "import os\n",
        "import json\n",
        "import cv2\n",
        "import numpy as np\n",
        "import tensorflow as tf\n",
        "from tensorflow.keras import layers, Model\n",
        "from tensorflow.keras.preprocessing.image import ImageDataGenerator\n",
        "from google.colab import drive\n",
        "import zipfile\n",
        "import matplotlib.pyplot as plt\n",
        "\n",
        "# 1. Google Drive 마운트 및 데이터셋 준비\n",
        "def setup_dataset_from_drive(drive_path, local_extract_path):\n",
        "    # Google Drive 마운트\n",
        "    drive.mount('/content/drive')\n",
        "    zip_path = os.path.join('/content/drive/My Drive', drive_path)\n",
        "\n",
        "    # 압축 해제\n",
        "    if not os.path.exists(local_extract_path):\n",
        "        os.makedirs(local_extract_path)\n",
        "\n",
        "    with zipfile.ZipFile(zip_path, 'r') as zip_ref:\n",
        "        zip_ref.extractall(local_extract_path)\n",
        "\n",
        "    print(f\"Dataset extracted to {local_extract_path}\")\n",
        "    return local_extract_path\n",
        "\n",
        "# 2. metadata.json 기반으로 프레임 추출 및 라벨링\n",
        "def extract_frames_with_metadata(video_dir, metadata_path, output_base_dir, frame_rate=5):\n",
        "    with open(metadata_path, 'r') as f:\n",
        "        metadata = json.load(f)\n",
        "\n",
        "    for video_file, attributes in metadata.items():\n",
        "        label = 'fake' if attributes['label'] == 'FAKE' else 'real'\n",
        "        video_path = os.path.join(video_dir, video_file)\n",
        "        output_label_dir = os.path.join(output_base_dir, label)\n",
        "        os.makedirs(output_label_dir, exist_ok=True)\n",
        "\n",
        "        if not os.path.exists(video_path):\n",
        "            print(f\"Warning: {video_path} does not exist.\")\n",
        "            continue\n",
        "\n",
        "        cap = cv2.VideoCapture(video_path)\n",
        "        count = 0\n",
        "        frame_id = 0\n",
        "\n",
        "        while cap.isOpened():\n",
        "            ret, frame = cap.read()\n",
        "            if not ret:\n",
        "                break\n",
        "            if count % frame_rate == 0:  # frame_rate마다 프레임 추출\n",
        "                frame_path = os.path.join(output_label_dir, f\"{video_file}_frame_{frame_id}.jpg\")\n",
        "                cv2.imwrite(frame_path, frame)\n",
        "                frame_id += 1\n",
        "            count += 1\n",
        "        cap.release()\n",
        "    print(f\"Frames extracted to {output_base_dir}\")\n",
        "\n",
        "# 3. 데이터 로드\n",
        "def load_data_from_frames(base_dir):\n",
        "    datagen = ImageDataGenerator(\n",
        "        rescale=1./255,\n",
        "        rotation_range=15,\n",
        "        width_shift_range=0.1,\n",
        "        height_shift_range=0.1,\n",
        "        horizontal_flip=True,\n",
        "        validation_split=0.2  # Train/Validation Split\n",
        "    )\n",
        "    train_generator = datagen.flow_from_directory(\n",
        "        base_dir,\n",
        "        target_size=(128, 128),\n",
        "        batch_size=32,\n",
        "        class_mode='categorical',\n",
        "        subset='training'\n",
        "    )\n",
        "    val_generator = datagen.flow_from_directory(\n",
        "        base_dir,\n",
        "        target_size=(128, 128),\n",
        "        batch_size=32,\n",
        "        class_mode='categorical',\n",
        "        subset='validation'\n",
        "    )\n",
        "    return train_generator, val_generator\n",
        "\n",
        "# 4. 모델 정의\n",
        "def build_classifier(input_shape):\n",
        "    inputs = tf.keras.Input(shape=input_shape)\n",
        "    x = layers.Conv2D(32, (3, 3), activation='relu', padding='same')(inputs)\n",
        "    x = layers.MaxPooling2D((2, 2))(x)\n",
        "    x = layers.Conv2D(64, (3, 3), activation='relu', padding='same')(x)\n",
        "    x = layers.MaxPooling2D((2, 2))(x)\n",
        "    x = layers.Conv2D(128, (3, 3), activation='relu', padding='same')(x)\n",
        "    x = layers.MaxPooling2D((2, 2))(x)\n",
        "    x = layers.Flatten()(x)\n",
        "    x = layers.Dense(64, activation='relu')(x)\n",
        "    x = layers.Dropout(0.5)(x)\n",
        "    outputs = layers.Dense(2, activation='softmax')(x)\n",
        "    model = Model(inputs, outputs)\n",
        "    return model\n",
        "\n",
        "# 5. 새로운 영상 프레임 추출 및 판별\n",
        "def extract_frames(video_path, output_dir=\"temp_frames\", frame_rate=5):\n",
        "    os.makedirs(output_dir, exist_ok=True)\n",
        "    cap = cv2.VideoCapture(video_path)\n",
        "    frames = []\n",
        "    count = 0\n",
        "\n",
        "    while cap.isOpened():\n",
        "        ret, frame = cap.read()\n",
        "        if not ret:\n",
        "            break\n",
        "        if count % frame_rate == 0:\n",
        "            frame = cv2.resize(frame, (128, 128))\n",
        "            frames.append(frame)\n",
        "        count += 1\n",
        "    cap.release()\n",
        "    frames = np.array(frames)\n",
        "    return frames\n",
        "\n",
        "def predict_video(model, video_path, frame_rate=5):\n",
        "    frames = extract_frames(video_path, frame_rate=frame_rate)\n",
        "    frames = frames / 255.0  # Normalize\n",
        "    predictions = model.predict(frames)\n",
        "    fake_probabilities = predictions[:, 1]  # Fake 클래스 확률\n",
        "    avg_fake_probability = np.mean(fake_probabilities)\n",
        "\n",
        "    if avg_fake_probability > 0.5:\n",
        "        result = \"Deepfake\"\n",
        "    else:\n",
        "        result = \"Real\"\n",
        "\n",
        "    print(f\"Video Prediction: {result} (Average Fake Probability: {avg_fake_probability:.2f})\")\n",
        "    return result, avg_fake_probability\n",
        "\n",
        "# 6. 실행\n",
        "if __name__ == '__main__':\n",
        "    # Google Drive에서 데이터셋 준비\n",
        "    drive_path = 'dataset/dfdc_train_part_00.zip'  # Google Drive 내의 ZIP 파일 경로\n",
        "    extract_path = './train_data'  # 로컬로 압축 해제할 디렉토리\n",
        "    dataset_path = setup_dataset_from_drive(drive_path, extract_path)\n",
        "\n",
        "    # metadata.json 경로\n",
        "    metadata_path = os.path.join(dataset_path, 'metadata.json')\n",
        "\n",
        "    # 프레임 추출\n",
        "    output_frames_dir = './train_frames'\n",
        "    extract_frames_with_metadata(dataset_path, metadata_path, output_frames_dir, frame_rate=5)\n",
        "\n",
        "    # 데이터 로드\n",
        "    train_gen, val_gen = load_data_from_frames(output_frames_dir)\n",
        "\n",
        "    # 모델 생성 및 컴파일\n",
        "    input_shape = (128, 128, 3)\n",
        "    model = build_classifier(input_shape)\n",
        "    model.compile(optimizer='adam', loss='categorical_crossentropy', metrics=['accuracy'])\n",
        "\n",
        "    # 모델 훈련\n",
        "    model.fit(train_gen, epochs=10, validation_data=val_gen)\n",
        "\n",
        "    # 새로운 동영상 판별\n",
        "    test_video_path = './test_video.mp4'  # 테스트할 동영상\n",
        "    predict_video(model, test_video_path, frame_rate=10)\n"
      ],
      "metadata": {
        "colab": {
          "base_uri": "https://localhost:8080/"
        },
        "id": "dyWYdy1zT7mJ",
        "outputId": "530a465c-9ccb-4340-c9ff-33cce1476549"
      },
      "execution_count": null,
      "outputs": [
        {
          "output_type": "stream",
          "name": "stdout",
          "text": [
            "Mounted at /content/drive\n"
          ]
        }
      ]
    }
  ],
  "metadata": {
    "accelerator": "GPU",
    "colab": {
      "gpuType": "T4",
      "provenance": [],
      "authorship_tag": "ABX9TyPNbObuYJT9SOUbw+qybiS3",
      "include_colab_link": true
    },
    "kernelspec": {
      "display_name": "Python 3",
      "name": "python3"
    },
    "language_info": {
      "name": "python"
    }
  },
  "nbformat": 4,
  "nbformat_minor": 0
}